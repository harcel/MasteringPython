{
 "cells": [
  {
   "cell_type": "markdown",
   "metadata": {
    "slideshow": {
     "slide_type": "slide"
    }
   },
   "source": [
    "***\n",
    "<img src=https://www.python.org/static/img/python-logo.png align=right>\n",
    "    \n",
    "# Mastering Python \n",
    "Marcel Haas, June 2022\n",
    "\n",
    "<br>\n",
    "<br>\n",
    "<br>\n",
    "<br>\n",
    "<br>\n",
    "<br>\n",
    "\n"
   ]
  },
  {
   "cell_type": "markdown",
   "metadata": {
    "slideshow": {
     "slide_type": "slide"
    }
   },
   "source": [
    "# Introductions\n",
    "\n",
    "<img src=figures/Me_slide.PNG align=left>\n"
   ]
  },
  {
   "cell_type": "markdown",
   "metadata": {
    "slideshow": {
     "slide_type": "subslide"
    }
   },
   "source": [
    "Are you familiar with:\n",
    "- 1: Variables, lists, dictionaries, tuples\n",
    "- 2: Numpy, pandas, scikit-learn\n",
    "- 4: Classes, functions, objects\n",
    "- 8: Closures, multiple inheritance"
   ]
  },
  {
   "cell_type": "markdown",
   "metadata": {
    "slideshow": {
     "slide_type": "slide"
    }
   },
   "source": [
    "# Table of contents\n",
    "\n",
    "- *Introductions*\n",
    "\n",
    "- The Python data model\n",
    "\n",
    "- Measuring and improving performance\n",
    "\n",
    "- Iterators, generators and decorators\n",
    "\n",
    "- Object behavior and special methods\n",
    "\n",
    "- Class inheritance to customize functionality\n",
    "\n",
    "\n",
    "\n",
    "<font size=\"3\">\n",
    "<br>\n",
    "<br>\n",
    "<br>\n",
    "<i>Disclaimer</i>: I do not always stick to conventions (like importing only on top of the notebook), but this is meant only for clarity and to make sure a small bit of code runs, without running the whole notebook first. </font>"
   ]
  },
  {
   "cell_type": "markdown",
   "metadata": {
    "slideshow": {
     "slide_type": "subslide"
    }
   },
   "source": [
    "<img src=https://cdn.onlinewebfonts.com/svg/img_472974.png align=right width=300 style=display:inline>\n",
    "\n",
    "# What is *not* discussed\n",
    "\n",
    "*(but might be interesting when talking about performance)*\n",
    "\n",
    "- Visualization\n",
    "- Multi-threading and multi-processing\n",
    "- Debugging\n",
    "- Best practices (testing, documentation, version control, packaging, environment maagement etc.)"
   ]
  },
  {
   "cell_type": "markdown",
   "metadata": {
    "slideshow": {
     "slide_type": "subslide"
    }
   },
   "source": [
    "# Resources\n",
    "\n",
    "These were resources that did it *for me*. Just ingest a lot, if you like that sort of thing.\n",
    "\n",
    "<img src=https://images-na.ssl-images-amazon.com/images/I/41R%2BfNX-akL._SX379_BO1,204,203,200_.jpg align=right width=200 style=display:inline>\n",
    "\n",
    "- Fluent Python by Luciano Ramalho\n",
    "- Python Data Science Handbook by Jake VanderPlas (whole book as notebooks on [github](https://github.com/jakevdp/PythonDataScienceHandbook))\n",
    "- PyCon/PyData/SciPy youtube videos (really!)\n",
    "- Dave Beazley's \"Advanced Python Mastery\" course.\n",
    "\n"
   ]
  },
  {
   "cell_type": "markdown",
   "metadata": {
    "slideshow": {
     "slide_type": "slide"
    }
   },
   "source": [
    "<img src=http://4.bp.blogspot.com/-IRcqITPir5Q/T7KNf7yD4TI/AAAAAAAAAMk/caAJlEnY0IE/s320/Capture3.PNG align=right width=400 style=display:inline>\n",
    "\n",
    "# The Python Data Model\n",
    "\n"
   ]
  },
  {
   "cell_type": "code",
   "execution_count": null,
   "metadata": {
    "slideshow": {
     "slide_type": "-"
    }
   },
   "outputs": [],
   "source": [
    "print(\"Hello World!\")"
   ]
  },
  {
   "cell_type": "markdown",
   "metadata": {},
   "source": [
    "It is clear that `print()` is a function that can take strings as an argument.\n",
    "\n",
    "How about the string itself?"
   ]
  },
  {
   "cell_type": "code",
   "execution_count": null,
   "metadata": {
    "slideshow": {
     "slide_type": "subslide"
    }
   },
   "outputs": [],
   "source": [
    "print(type(\"Hello World!\"))\n",
    "'  '.join(dir(\"Hello world!\"))   # dir lists all attributes and methods of an object"
   ]
  },
  {
   "cell_type": "markdown",
   "metadata": {},
   "source": [
    "That string is an *object* (instance of a *class*) in itself."
   ]
  },
  {
   "cell_type": "markdown",
   "metadata": {
    "slideshow": {
     "slide_type": "subslide"
    }
   },
   "source": [
    "\n",
    "Objects, or class instances, usually come with *attributes* and *methods* defined on top of it.\n",
    "\n",
    "<img src=https://upload.wikimedia.org/wikipedia/commons/thumb/9/98/CPT-OOP-objects_and_classes_-_attmeth.svg/1280px-CPT-OOP-objects_and_classes_-_attmeth.svg.png align=center width=400>\n",
    "\n",
    "\n",
    "- *Attributes* of an object: metadata that describe the object (= class instance)\n",
    "- *Methods* of an object: functions that are defined in the class body of an object and act on the object itself"
   ]
  },
  {
   "cell_type": "markdown",
   "metadata": {
    "slideshow": {
     "slide_type": "subslide"
    }
   },
   "source": [
    "## Everything in Python is an object\n",
    "Therefore: \"The Python data model\" == \"The Python object model\""
   ]
  },
  {
   "cell_type": "markdown",
   "metadata": {
    "slideshow": {
     "slide_type": "subslide"
    }
   },
   "source": [
    "# The very basis of working with objects: assignment\n",
    "\n",
    "Assignment does two things:\n",
    "1. It creates an object (in this case with integer value 2)\n",
    "2. It assigns variable `a` to that object.\n",
    "\n",
    "*Note: the object is **not** assigned to variable `a`, but vice versa!*"
   ]
  },
  {
   "cell_type": "code",
   "execution_count": null,
   "metadata": {},
   "outputs": [],
   "source": [
    "a = 2"
   ]
  },
  {
   "cell_type": "code",
   "execution_count": null,
   "metadata": {},
   "outputs": [],
   "source": [
    "print(a)\n",
    "print(type(a))"
   ]
  },
  {
   "cell_type": "code",
   "execution_count": null,
   "metadata": {
    "slideshow": {
     "slide_type": "subslide"
    }
   },
   "outputs": [],
   "source": [
    "a = [2, 4, 6, 8]"
   ]
  },
  {
   "cell_type": "markdown",
   "metadata": {},
   "source": [
    "The assignment does several things:\n",
    "1. It creates the integer objects 2, 4, 6 and 8\n",
    "2. It creates a list of these\n",
    "3. It assigns variable `a` to that list"
   ]
  },
  {
   "cell_type": "markdown",
   "metadata": {
    "slideshow": {
     "slide_type": "subslide"
    }
   },
   "source": [
    "Is anyone suprised by this output?"
   ]
  },
  {
   "cell_type": "code",
   "execution_count": null,
   "metadata": {},
   "outputs": [],
   "source": [
    "a = [2, 4, 6, 8]\n",
    "b = a\n",
    "b[2] = 100\n",
    "a"
   ]
  },
  {
   "cell_type": "markdown",
   "metadata": {
    "slideshow": {
     "slide_type": "subslide"
    }
   },
   "source": [
    "Remember: the assignment creates objects, a container and then assigns variable `a`!"
   ]
  },
  {
   "cell_type": "code",
   "execution_count": null,
   "metadata": {},
   "outputs": [],
   "source": [
    "a = [2, 4, 6, 8]\n",
    "b = a"
   ]
  },
  {
   "cell_type": "markdown",
   "metadata": {},
   "source": [
    "The second assignment assigns a second variable (named `b`) to the object referenced to with `a`.\n",
    "\n",
    "The objects *do not change* in memory. \n",
    "\n",
    "When you assign a new value to the object *referenced by a variable in the container* `b[2]`\n",
    "\n",
    "you make a change to an object that has another variable (`a[2]`) assigned to it."
   ]
  },
  {
   "cell_type": "code",
   "execution_count": null,
   "metadata": {},
   "outputs": [],
   "source": [
    "b[2] = 100\n",
    "a"
   ]
  },
  {
   "cell_type": "markdown",
   "metadata": {
    "slideshow": {
     "slide_type": "subslide"
    }
   },
   "source": [
    "What most people **want** to happen is that the objects are copied, with **new pointers** pointing at **new objects**.\n",
    "\n",
    "This can be done, but needs to be made explicit:"
   ]
  },
  {
   "cell_type": "code",
   "execution_count": null,
   "metadata": {},
   "outputs": [],
   "source": [
    "b = a.copy()\n",
    "b[1] = print\n",
    "a[0] = 'New value!'\n",
    "print(a)\n",
    "print(b)"
   ]
  },
  {
   "cell_type": "markdown",
   "metadata": {
    "slideshow": {
     "slide_type": "subslide"
    }
   },
   "source": [
    "You might be tricked into thinking that Python (or pandas, or numpy, or ...) will do that for you...\n",
    "\n"
   ]
  },
  {
   "cell_type": "code",
   "execution_count": null,
   "metadata": {},
   "outputs": [],
   "source": [
    "import pandas as pd\n",
    "df_a = pd.DataFrame({'x':[0, 1, 2], 'y':[110, 121, 130]})\n",
    "df_b = df_a\n",
    "df_b['x'][0] = 1022\n",
    "df_a"
   ]
  },
  {
   "cell_type": "markdown",
   "metadata": {
    "slideshow": {
     "slide_type": "subslide"
    }
   },
   "source": [
    "This all becomes easier when thinking of variables as sticky notes, rather than boxes.\n",
    "\n",
    "<img src=figures/labels_vs_boxes.png>"
   ]
  },
  {
   "cell_type": "code",
   "execution_count": null,
   "metadata": {},
   "outputs": [],
   "source": [
    "charles = {'name':'C.L.D', 'born':1832}\n",
    "lewis = charles\n",
    "alex = {'name':'C.L.D', 'born':1832}"
   ]
  },
  {
   "cell_type": "code",
   "execution_count": null,
   "metadata": {
    "slideshow": {
     "slide_type": "subslide"
    }
   },
   "outputs": [],
   "source": [
    "charles = {'name':'C.L.D', 'born':1832}\n",
    "lewis = charles\n",
    "alex = {'name':'C.L.D', 'born':1832}"
   ]
  },
  {
   "cell_type": "code",
   "execution_count": null,
   "metadata": {
    "slideshow": {
     "slide_type": "-"
    }
   },
   "outputs": [],
   "source": [
    "alex == charles"
   ]
  },
  {
   "cell_type": "code",
   "execution_count": null,
   "metadata": {
    "slideshow": {
     "slide_type": "-"
    }
   },
   "outputs": [],
   "source": [
    "alex is charles"
   ]
  },
  {
   "cell_type": "code",
   "execution_count": null,
   "metadata": {},
   "outputs": [],
   "source": [
    "lewis is charles"
   ]
  },
  {
   "cell_type": "markdown",
   "metadata": {
    "slideshow": {
     "slide_type": "slide"
    }
   },
   "source": [
    "# Quiz time!"
   ]
  },
  {
   "cell_type": "code",
   "execution_count": null,
   "metadata": {},
   "outputs": [],
   "source": [
    "a = 2\n",
    "b = a\n",
    "b = 6\n",
    "print(a)"
   ]
  },
  {
   "cell_type": "code",
   "execution_count": null,
   "metadata": {
    "slideshow": {
     "slide_type": "subslide"
    }
   },
   "outputs": [],
   "source": [
    "a = 2\n",
    "b = a\n",
    "b = print\n",
    "print(b)"
   ]
  },
  {
   "cell_type": "code",
   "execution_count": null,
   "metadata": {
    "slideshow": {
     "slide_type": "subslide"
    }
   },
   "outputs": [],
   "source": [
    "import numpy as np\n",
    "a = np.array([2, 4, 6])\n",
    "b = a\n",
    "b[1] = 1006\n",
    "print(a)"
   ]
  },
  {
   "cell_type": "code",
   "execution_count": null,
   "metadata": {
    "slideshow": {
     "slide_type": "subslide"
    }
   },
   "outputs": [],
   "source": [
    "import numpy as np\n",
    "a = np.array([2, 4, 6])\n",
    "b = a\n",
    "b = 106\n",
    "print(a)"
   ]
  },
  {
   "cell_type": "code",
   "execution_count": null,
   "metadata": {
    "slideshow": {
     "slide_type": "subslide"
    }
   },
   "outputs": [],
   "source": [
    "class ExampleObject():\n",
    "    def __init__(self):\n",
    "        self.name = \"Guido van Rossum\"\n",
    "\n",
    "a = ExampleObject()\n",
    "b = a\n",
    "b.name = \"Python Creator\"\n",
    "a.name"
   ]
  },
  {
   "cell_type": "markdown",
   "metadata": {
    "slideshow": {
     "slide_type": "slide"
    }
   },
   "source": [
    "# Mutable and immutable types\n",
    "\n",
    "Some objects, like tuples (but also floats, ints, strings!), are immutable.\n",
    "\n",
    "**What does this immutability mean?**"
   ]
  },
  {
   "cell_type": "markdown",
   "metadata": {
    "slideshow": {
     "slide_type": "subslide"
    }
   },
   "source": [
    "The Online Python Tutor can be found at http://pythontutor.com\n",
    "\n",
    "It lets you execute code line by line and see the effects:\n",
    "\n",
    "<img src=figures/OPT_assign_tuple_1.png>"
   ]
  },
  {
   "cell_type": "markdown",
   "metadata": {
    "slideshow": {
     "slide_type": "subslide"
    }
   },
   "source": [
    "<img src=figures/OPT_assign_tuple_2.png>"
   ]
  },
  {
   "cell_type": "markdown",
   "metadata": {
    "slideshow": {
     "slide_type": "subslide"
    }
   },
   "source": [
    "<img src=figures/OPT_assign_tuple_3.png>"
   ]
  },
  {
   "cell_type": "markdown",
   "metadata": {
    "slideshow": {
     "slide_type": "subslide"
    }
   },
   "source": [
    "<img src=figures/OPT_assign_tuple_4.png>"
   ]
  },
  {
   "cell_type": "code",
   "execution_count": null,
   "metadata": {
    "slideshow": {
     "slide_type": "subslide"
    }
   },
   "outputs": [],
   "source": [
    "b = (1, 's', [10, 20])\n",
    "b[2].extend([30, 40])\n",
    "print(b)"
   ]
  },
  {
   "cell_type": "code",
   "execution_count": null,
   "metadata": {},
   "outputs": [],
   "source": [
    "b[2] += [50, 60]\n",
    "b[2] = b[2] + [50, 60]"
   ]
  },
  {
   "cell_type": "code",
   "execution_count": null,
   "metadata": {},
   "outputs": [],
   "source": [
    "print(b)"
   ]
  },
  {
   "cell_type": "markdown",
   "metadata": {
    "slideshow": {
     "slide_type": "subslide"
    }
   },
   "source": [
    "A bit more about nested lists, accessing and assigning.\n",
    "\n",
    "<img src=figures/OPT_nestedlist_function.png>"
   ]
  },
  {
   "cell_type": "markdown",
   "metadata": {
    "slideshow": {
     "slide_type": "subslide"
    }
   },
   "source": [
    "<img src=figures/OPT_nestedlist_newassignment.png>\n",
    "\n",
    "`c` was not referring to a list, but to an object!\n",
    "\n",
    "`c` is re-assigned to a new object!"
   ]
  },
  {
   "cell_type": "markdown",
   "metadata": {
    "slideshow": {
     "slide_type": "slide"
    }
   },
   "source": [
    "# Dis does this too"
   ]
  },
  {
   "cell_type": "code",
   "execution_count": null,
   "metadata": {},
   "outputs": [],
   "source": [
    "import dis\n",
    "x = [1, 2, 3]\n",
    "dis.dis('for _ in x: pass')"
   ]
  },
  {
   "cell_type": "markdown",
   "metadata": {},
   "source": [
    "But in slightly more obscure language, I'm afraid..."
   ]
  },
  {
   "cell_type": "code",
   "execution_count": null,
   "metadata": {},
   "outputs": [],
   "source": []
  },
  {
   "cell_type": "markdown",
   "metadata": {
    "slideshow": {
     "slide_type": "slide"
    }
   },
   "source": [
    "# Exercise time!\n",
    "\n",
    "These exercises do not necessarily connect to the material we just discussed (that would be too easy). They do result in cute, Pythonic code examples. The answers can be loaded by uncommenting the non-empty code cell. Enjoy!\n",
    "\n",
    "1. Create two objects, assign them to variables `a` and `b`. Then, reverse their names (new `a` should give you the result that `b` first gave you and vice versa).\n",
    "\n",
    "2. Create a list with 4 or more elements. Assign, in one line, the first and the last to variables `first` and `last` and all other ones to `other`.\n",
    "\n",
    "3. Transpose this \"matrix\", without the use of packages like math, numpy and scipy:\n",
    "```\n",
    "x = [[31, 17],\n",
    "        [40 ,51],\n",
    "        [13 ,12]]\n",
    "```\n",
    "4. [BONUS]: Create a dictionary and a function to decrypt a [Caesar ciphered](https://en.wikipedia.org/wiki/Caesar_cipher) text given a shift in the alphabet. What is the likely shift of this word: `zvsbapvu`?"
   ]
  },
  {
   "cell_type": "code",
   "execution_count": null,
   "metadata": {
    "slideshow": {
     "slide_type": "-"
    }
   },
   "outputs": [],
   "source": []
  },
  {
   "cell_type": "code",
   "execution_count": null,
   "metadata": {
    "slideshow": {
     "slide_type": "subslide"
    }
   },
   "outputs": [],
   "source": [
    "import os\n",
    "#to_include = os.path.join('solutions', 'data_constructs.py')\n",
    "#%load $to_include"
   ]
  },
  {
   "cell_type": "markdown",
   "metadata": {
    "slideshow": {
     "slide_type": "slide"
    }
   },
   "source": [
    "# Measuring and improving performance\n",
    "\n",
    "<img src=https://freesvg.org/img/Performance--cyberang3l.png align=right width=600  style=display:inline>\n",
    "\n",
    "- IPython magic\n",
    "\n",
    "- Timing and profiling code\n",
    "\n",
    "- Vectorizing code for speed\n",
    "\n",
    "\n"
   ]
  },
  {
   "cell_type": "markdown",
   "metadata": {
    "slideshow": {
     "slide_type": "slide"
    }
   },
   "source": [
    "#  IPython magic!\n",
    "\n",
    "<img src=https://res.cloudinary.com/practicaldev/image/fetch/s--D-aJRe8W--/c_limit%2Cf_auto%2Cfl_progressive%2Cq_auto%2Cw_880/https://thepracticaldev.s3.amazonaws.com/i/d7oeukl09h4vemh75dl0.png align=right width=600>\n",
    "\n",
    "Lines acting on the next line or the whole cell.\n",
    "\n",
    "Can be, and are, custom made.\n",
    "\n",
    "Work only in IPython and (therefore) Jupyter."
   ]
  },
  {
   "cell_type": "code",
   "execution_count": null,
   "metadata": {},
   "outputs": [],
   "source": [
    "% # Magic line!"
   ]
  },
  {
   "cell_type": "code",
   "execution_count": null,
   "metadata": {},
   "outputs": [],
   "source": [
    "%%  # Cell magic!"
   ]
  },
  {
   "cell_type": "code",
   "execution_count": null,
   "metadata": {
    "slideshow": {
     "slide_type": "subslide"
    }
   },
   "outputs": [],
   "source": [
    "%time test = [x + y for x, y in np.random.random(size=(100,2))]"
   ]
  },
  {
   "cell_type": "code",
   "execution_count": null,
   "metadata": {},
   "outputs": [],
   "source": [
    "%%timeit                                             # You want only one run? Remove 'it'!\n",
    "import time\n",
    "time.sleep(2)\n",
    "print(\"Sleeping is awesome.\")"
   ]
  },
  {
   "cell_type": "code",
   "execution_count": null,
   "metadata": {},
   "outputs": [],
   "source": []
  },
  {
   "cell_type": "code",
   "execution_count": null,
   "metadata": {
    "slideshow": {
     "slide_type": "subslide"
    }
   },
   "outputs": [],
   "source": [
    "# If you only want to know about the run-time of some lines...\n",
    "import time\n",
    "x = 0\n",
    "y = 0\n",
    "%time x = [time.sleep(i/1000) for i in range(12,144,3)]\n",
    "print(\"Let's not time this\")\n",
    "%time print(\"Let's time this, though!\")"
   ]
  },
  {
   "cell_type": "markdown",
   "metadata": {
    "slideshow": {
     "slide_type": "subslide"
    }
   },
   "source": [
    "<img src=https://miro.medium.com/max/500/0*krNxs9ggOE1ToVgt.png align=right width=300>\n",
    "\n",
    "# Magic assignment\n",
    "\n",
    "Bring out your wand, run the cell below and pick one that you don't know yet.\n",
    "\n",
    "Read about it online and prepare to explain something about.\n",
    "\n",
    "Put the one you adore most in the chat!"
   ]
  },
  {
   "cell_type": "code",
   "execution_count": null,
   "metadata": {},
   "outputs": [],
   "source": [
    "%lsmagic"
   ]
  },
  {
   "cell_type": "markdown",
   "metadata": {
    "slideshow": {
     "slide_type": "slide"
    }
   },
   "source": [
    "# SnakeViz for profiling\n",
    "\n",
    "<br>\n",
    "<br>\n",
    "<br>\n",
    "<br>\n",
    "\n",
    "\n",
    "(It's Python, after all....)"
   ]
  },
  {
   "cell_type": "code",
   "execution_count": null,
   "metadata": {
    "slideshow": {
     "slide_type": "subslide"
    }
   },
   "outputs": [],
   "source": [
    "%load_ext snakeviz"
   ]
  },
  {
   "cell_type": "code",
   "execution_count": null,
   "metadata": {},
   "outputs": [],
   "source": [
    "%%snakeviz -t\n",
    "# -t puts it in a new tab (without, it won't work in Rise.js)\n",
    "import numpy as np\n",
    "a = np.random.random(size=10000)\n",
    "b = [2*aa for aa in a]\n",
    "c = 2 * a\n",
    "d = []\n",
    "for i in range(len(a)):\n",
    "    d.append(2*a[i])"
   ]
  },
  {
   "cell_type": "markdown",
   "metadata": {
    "slideshow": {
     "slide_type": "subslide"
    }
   },
   "source": [
    "### Snakeviz examples\n",
    "\n",
    "From the [documentation page](https://jiffyclub.github.io/snakeviz/):\n",
    "\n",
    "<img src=\"figures/snakeviz.png\" align=\"left\"/><img src=\"figures/snakeviz_sunburst.png\" align=\"left\"/>"
   ]
  },
  {
   "cell_type": "markdown",
   "metadata": {
    "slideshow": {
     "slide_type": "slide"
    }
   },
   "source": [
    "# Vectorizing code and why numpy is your friend"
   ]
  },
  {
   "cell_type": "code",
   "execution_count": null,
   "metadata": {},
   "outputs": [],
   "source": [
    "x = [2, 4, 6]\n",
    "print(2 * x)"
   ]
  },
  {
   "cell_type": "markdown",
   "metadata": {},
   "source": [
    "Which is the behavior that exactly nobody ever needs."
   ]
  },
  {
   "cell_type": "markdown",
   "metadata": {
    "slideshow": {
     "slide_type": "subslide"
    }
   },
   "source": [
    "### Hence, numpy\n",
    "\n",
    "<img src=figures/numpy.png>\n",
    "\n",
    "Numpy is the basis for basically all numerical computing in Python.\n",
    "\n",
    "<font size=\"3\">\n",
    "<br>\n",
    "<br>\n",
    "<br>\n",
    "(Image from David Beazley - EuroScipy 2012 Bruxelles)\n",
    "</font>"
   ]
  },
  {
   "cell_type": "markdown",
   "metadata": {
    "slideshow": {
     "slide_type": "subslide"
    }
   },
   "source": [
    "### A short history of numpy\n",
    "\n",
    "<br>\n",
    "<br>\n",
    "\n",
    "<img src=figures/numpy_history.png>\n",
    "\n",
    "<font size=\"3\">\n",
    "<br>\n",
    "<br>\n",
    "<br>\n",
    "(Image from Travis Oliphant - Scipy 2012 Tokyo)\n",
    "</font>"
   ]
  },
  {
   "cell_type": "markdown",
   "metadata": {
    "slideshow": {
     "slide_type": "subslide"
    }
   },
   "source": [
    "### Learn to use numpy, it pays off\n",
    "\n",
    "Pandas Series are basically just numpy arrays with a named index.\n",
    "\n",
    "Pandas DataFrames are just collections of Series with a common index.\n",
    "\n",
    "Matplotlib converts everything to arrays before doing calculations and plotting.\n",
    "\n",
    "...\n"
   ]
  },
  {
   "cell_type": "code",
   "execution_count": null,
   "metadata": {},
   "outputs": [],
   "source": [
    "import numpy as np\n",
    "my_first_array = np.array([42, 100])\n",
    "print(my_first_array)\n",
    "my_first_array"
   ]
  },
  {
   "cell_type": "markdown",
   "metadata": {},
   "source": [
    "Arrays are constructed from core Python collections."
   ]
  },
  {
   "cell_type": "markdown",
   "metadata": {
    "slideshow": {
     "slide_type": "slide"
    }
   },
   "source": [
    "<img src=https://upload.wikimedia.org/wikipedia/commons/thumb/1/1a/NumPy_logo.svg/775px-NumPy_logo.svg.png align=right width=300 style=display:inline>\n",
    "\n",
    "# 4 Strategies to speed up your code\n",
    "\n",
    "1. Use numpy's **ufuncs**\n",
    "2. Use numpy's **aggregations**\n",
    "3. Use numpy's **broadcasting**\n",
    "4. Use numpy's **slicing, masking and fancy indexing**\n",
    "\n",
    "(Material adapted from a [talk by Jake VanderPlas](https://www.youtube.com/watch?v=EEUXKG97YRw) @SciPy2015)"
   ]
  },
  {
   "cell_type": "markdown",
   "metadata": {
    "slideshow": {
     "slide_type": "subslide"
    }
   },
   "source": [
    "### Array operations, or vector operations, are what you often might want."
   ]
  },
  {
   "cell_type": "code",
   "execution_count": null,
   "metadata": {},
   "outputs": [],
   "source": [
    "my_list = [42, 100, 1.5]\n",
    "added_list = [a + 5 for a in my_list]\n",
    "print(added_list)"
   ]
  },
  {
   "cell_type": "code",
   "execution_count": null,
   "metadata": {
    "slideshow": {
     "slide_type": "subslide"
    }
   },
   "outputs": [],
   "source": [
    "import numpy as np\n",
    "my_first_array = np.array(my_list)\n",
    "print(my_first_array + 5)"
   ]
  },
  {
   "cell_type": "markdown",
   "metadata": {},
   "source": [
    "### Where did the loop go?"
   ]
  },
  {
   "cell_type": "code",
   "execution_count": null,
   "metadata": {},
   "outputs": [],
   "source": [
    "print(my_first_array * 2)\n",
    "print(my_first_array + np.array([2, 111, 0.01]))"
   ]
  },
  {
   "cell_type": "markdown",
   "metadata": {
    "slideshow": {
     "slide_type": "subslide"
    }
   },
   "source": [
    "# Is this actually better?"
   ]
  },
  {
   "cell_type": "code",
   "execution_count": null,
   "metadata": {},
   "outputs": [],
   "source": [
    "a = list(range(100000))\n",
    "%timeit [val + 5 for val in a]\n",
    "a = np.array(a)\n",
    "%timeit a + 5"
   ]
  },
  {
   "cell_type": "markdown",
   "metadata": {
    "slideshow": {
     "slide_type": "subslide"
    }
   },
   "source": [
    "<img src=figures/Python_speed.jpg align=right width=600 style=display:inline>\n",
    "\n",
    "# The reason:\n",
    "\n",
    "## What makes Python *fast*\n",
    "(for development)\n",
    "## is what makes Python *slow*\n",
    "(for execution)"
   ]
  },
  {
   "cell_type": "markdown",
   "metadata": {
    "slideshow": {
     "slide_type": "subslide"
    }
   },
   "source": [
    "# So what are these *ufuncs* you're speaking of?\n",
    "\n",
    "- Arithmetic: +, -, \\*, /, ** etc.\n",
    "- Bitwise: &, |, ~, >> etc.\n",
    "- Comparisons: <, >, ==, != etc.\n",
    "- Trigonomteric, exponential etc.: np.sin(), np.cos(), np.exp(), np.log10() etc.\n",
    "- And a whole bunch of `scipy.special` functions."
   ]
  },
  {
   "cell_type": "code",
   "execution_count": null,
   "metadata": {
    "slideshow": {
     "slide_type": "subslide"
    }
   },
   "outputs": [],
   "source": [
    "# Quiz intermezzo!\n",
    "print(11 & 9)"
   ]
  },
  {
   "cell_type": "markdown",
   "metadata": {
    "slideshow": {
     "slide_type": "slide"
    }
   },
   "source": [
    "# Strategy number 2: numpy aggregations"
   ]
  },
  {
   "cell_type": "code",
   "execution_count": null,
   "metadata": {},
   "outputs": [],
   "source": [
    "from random import random\n",
    "c = [random() for i in range(100000)]\n",
    "%timeit min(c)\n",
    "c = np.random.random(size=100000)\n",
    "%timeit c.min()\n",
    "%timeit min(c)"
   ]
  },
  {
   "cell_type": "markdown",
   "metadata": {},
   "source": [
    "*Methods* like `.min()`, `.max()`, `.abs()`, `.sum()`, `.mean()`, `.std()`, etc. Use them!"
   ]
  },
  {
   "cell_type": "markdown",
   "metadata": {
    "slideshow": {
     "slide_type": "slide"
    }
   },
   "source": [
    "<img src=https://miro.medium.com/max/481/1*cxfqR8NAj8HGal8CVOZ7hg.png align=right width=400 style=display:inline>\n",
    "\n",
    "# Pandas strategies for speeding up\n",
    "\n",
    "\n",
    "I am assuming you know about\n",
    "1. loc .iloc etc.\n",
    "2. Groupby operations and aggregations on them\n",
    "3. Multi-Index\n",
    "4. Boolean selection (\"filters\")\n",
    "5. Merging, pivoting, melting and other data prep functionality"
   ]
  },
  {
   "cell_type": "markdown",
   "metadata": {
    "slideshow": {
     "slide_type": "subslide"
    }
   },
   "source": [
    "# You thought I was going to tell you?\n",
    "### ...a.k.a. Exercise time!\n",
    "\n",
    "Pick one or more from the following list. \n",
    "\n",
    "Google it. Understand it.\n",
    "\n",
    "Make a cute code example for one and put in the chat which one you picked.\n",
    "\n",
    "I might just let you explain it to all of us!\n",
    "\n",
    "- `df.query()`\n",
    "- `df.lookup()`\n",
    "- `df.infer_objects()`\n",
    "- `df.memory_usage()`\n",
    "- `df.sample()`"
   ]
  },
  {
   "cell_type": "markdown",
   "metadata": {
    "slideshow": {
     "slide_type": "slide"
    }
   },
   "source": [
    "# Back to numpy, and strategy #3: Broadcasting\n",
    "### Arrays can have any number of dimensions"
   ]
  },
  {
   "cell_type": "code",
   "execution_count": null,
   "metadata": {},
   "outputs": [],
   "source": [
    "small_array = np.array([])\n",
    "print(small_array)\n",
    "print(f'\\nShape of the array: {small_array.shape}')\n",
    "small_array"
   ]
  },
  {
   "cell_type": "code",
   "execution_count": null,
   "metadata": {},
   "outputs": [],
   "source": [
    "multi_D = np.array( [ [ [2, 3], [12, 13] ], [ [44, 55], [100, 200]], [ [1000, 2000], [1005, 2007]] ] )\n",
    "print(multi_D)\n",
    "print(f'\\nShape of the array: {multi_D.shape}')"
   ]
  },
  {
   "cell_type": "markdown",
   "metadata": {
    "slideshow": {
     "slide_type": "subslide"
    }
   },
   "source": [
    "### Array operations can come in several dimensions"
   ]
  },
  {
   "cell_type": "code",
   "execution_count": null,
   "metadata": {},
   "outputs": [],
   "source": [
    "multi_D = np.zeros(shape=(3, 2, 2))\n",
    "one_D = np.ones(2)\n",
    "\n",
    "print(multi_D)\n",
    "print(\"-------------------\")\n",
    "print(one_D)\n",
    "print(\"-------------------\")\n",
    "print(multi_D + one_D)"
   ]
  },
  {
   "cell_type": "markdown",
   "metadata": {
    "slideshow": {
     "slide_type": "subslide"
    }
   },
   "source": [
    "### Until it goes wrong..."
   ]
  },
  {
   "cell_type": "code",
   "execution_count": null,
   "metadata": {
    "slideshow": {
     "slide_type": "-"
    }
   },
   "outputs": [],
   "source": [
    "print(np.array([0, 0]) + np.array([2, 111, 345]))"
   ]
  },
  {
   "cell_type": "code",
   "execution_count": null,
   "metadata": {},
   "outputs": [],
   "source": [
    "multi_D = np.zeros(shape=(3, 2, 2))\n",
    "one_D = np.ones(3)\n",
    "print(multi_D.T + one_D)   "
   ]
  },
  {
   "cell_type": "code",
   "execution_count": null,
   "metadata": {},
   "outputs": [],
   "source": [
    "print(multi_D.T.shape)\n",
    "print(np.ones(3).reshape(1, 1, 3).shape)\n"
   ]
  },
  {
   "cell_type": "markdown",
   "metadata": {},
   "source": [
    "Note the mention of the word **broadcast** here..."
   ]
  },
  {
   "cell_type": "markdown",
   "metadata": {
    "slideshow": {
     "slide_type": "subslide"
    }
   },
   "source": [
    "# Broadcasting all them dimenzionz....\n",
    "(Strategy number 3)\n",
    "\n",
    "<div align=center>\n",
    "<br>\n",
    "<br>\n",
    "<br>\n",
    "<i>\"<b>Broadcasting</b> is a set of rules by which <b>ufuncs</b> operate on arrays with <b>different sizes or dimensions</b>\"</i>"
   ]
  },
  {
   "cell_type": "markdown",
   "metadata": {
    "slideshow": {
     "slide_type": "subslide"
    }
   },
   "source": [
    "### Let's see if we can deduce these rules"
   ]
  },
  {
   "cell_type": "code",
   "execution_count": null,
   "metadata": {},
   "outputs": [],
   "source": [
    "import numpy as np\n",
    "multi_D = np.zeros(shape=(3, 2, 2))\n",
    "one_D = np.ones(3)\n",
    "print(multi_D.T + one_D)\n",
    "print(multi_D + one_D)  ## Error from before!"
   ]
  },
  {
   "cell_type": "code",
   "execution_count": null,
   "metadata": {},
   "outputs": [],
   "source": [
    "print(np.arange(3).reshape(3, 1) + np.arange(3))"
   ]
  },
  {
   "cell_type": "code",
   "execution_count": null,
   "metadata": {},
   "outputs": [],
   "source": [
    "1+np.arange(3)"
   ]
  },
  {
   "cell_type": "markdown",
   "metadata": {},
   "source": [
    "Who can tell me the rules?"
   ]
  },
  {
   "cell_type": "markdown",
   "metadata": {
    "slideshow": {
     "slide_type": "subslide"
    }
   },
   "source": [
    "\n",
    "# The rules!\n",
    "\n",
    "\n",
    "1. If array shapes differ in number of dimensions, **left**-pad the smaller shape with **ones**\n",
    "2. If any dimension does not match, broadcast the dimension with size=1\n",
    "3. If neither non-matching dimension is one, throw an error"
   ]
  },
  {
   "cell_type": "markdown",
   "metadata": {
    "slideshow": {
     "slide_type": "subslide"
    }
   },
   "source": [
    "<img src=https://jakevdp.github.io/PythonDataScienceHandbook/figures/02.05-broadcasting.png align=center width=800  style=display:inline>\n"
   ]
  },
  {
   "cell_type": "code",
   "execution_count": null,
   "metadata": {},
   "outputs": [],
   "source": [
    "print(np.shape(np.arange(3)))\n",
    "print(np.shape(5))"
   ]
  },
  {
   "cell_type": "markdown",
   "metadata": {
    "slideshow": {
     "slide_type": "subslide"
    }
   },
   "source": [
    "### So why does this one go wrong?"
   ]
  },
  {
   "cell_type": "code",
   "execution_count": null,
   "metadata": {},
   "outputs": [],
   "source": [
    "multi_D = np.zeros(shape=(300, 200, 200))\n",
    "one_D = np.ones(200)\n",
    "\n",
    "print(multi_D + one_D)   "
   ]
  },
  {
   "cell_type": "markdown",
   "metadata": {},
   "source": [
    "### Note: no memory overhead and no loops!"
   ]
  },
  {
   "cell_type": "markdown",
   "metadata": {
    "slideshow": {
     "slide_type": "slide"
    }
   },
   "source": [
    "# Slicing, masking and fancy indexing\n",
    "\n",
    "The last strategy for numpy!"
   ]
  },
  {
   "cell_type": "code",
   "execution_count": null,
   "metadata": {},
   "outputs": [],
   "source": [
    "# We already know some indexing, right?\n",
    "marcels_list = [1, 1, 2, 3, 5, 8, 13]\n",
    "print(marcels_list[0:1])\n",
    "print(marcels_list[2:4])"
   ]
  },
  {
   "cell_type": "code",
   "execution_count": null,
   "metadata": {},
   "outputs": [],
   "source": [
    "# And for numpy, these still work!\n",
    "marcels_array = np.array(marcels_list)\n",
    "print(marcels_array[0])\n",
    "print(marcels_array[2:4])"
   ]
  },
  {
   "cell_type": "markdown",
   "metadata": {
    "slideshow": {
     "slide_type": "subslide"
    }
   },
   "source": [
    "# But.... there's more!\n",
    "\n",
    "Like, masking, for example:"
   ]
  },
  {
   "cell_type": "code",
   "execution_count": null,
   "metadata": {},
   "outputs": [],
   "source": [
    "odd_mask = np.array([True, True, False, True, True, False, True])\n",
    "print(marcels_array[odd_mask])"
   ]
  },
  {
   "cell_type": "markdown",
   "metadata": {},
   "source": [
    "Not too much magic in that, but..."
   ]
  },
  {
   "cell_type": "markdown",
   "metadata": {
    "slideshow": {
     "slide_type": "subslide"
    }
   },
   "source": [
    "... let's combine this with the ufuncs:"
   ]
  },
  {
   "cell_type": "code",
   "execution_count": null,
   "metadata": {},
   "outputs": [],
   "source": [
    "new_mask = (marcels_array < 4) | (marcels_array > 8)\n",
    "print(marcels_array[new_mask])"
   ]
  },
  {
   "cell_type": "markdown",
   "metadata": {
    "slideshow": {
     "slide_type": "subslide"
    }
   },
   "source": [
    "# Fancy indexing\n",
    "\n",
    "You can give a list of indices as well!\n",
    "\n",
    "Let's say you want the first and third and fifth element of the array:"
   ]
  },
  {
   "cell_type": "code",
   "execution_count": null,
   "metadata": {},
   "outputs": [],
   "source": [
    "indices = [0, 2, 4]\n",
    "print(marcels_array[indices])"
   ]
  },
  {
   "cell_type": "code",
   "execution_count": null,
   "metadata": {},
   "outputs": [],
   "source": [
    "print(marcels_list[indices])"
   ]
  },
  {
   "cell_type": "markdown",
   "metadata": {
    "slideshow": {
     "slide_type": "slide"
    }
   },
   "source": [
    "# Let's get it all combined!"
   ]
  },
  {
   "cell_type": "code",
   "execution_count": null,
   "metadata": {},
   "outputs": [],
   "source": [
    "M = np.arange(6).reshape(3, 2)\n",
    "N = np.arange(6).reshape(2, 3)\n",
    "print(M)\n",
    "print(N)"
   ]
  },
  {
   "cell_type": "code",
   "execution_count": null,
   "metadata": {},
   "outputs": [],
   "source": [
    "ind = [0,1]\n",
    "print(M[ind])\n",
    "print(N[ind])"
   ]
  },
  {
   "cell_type": "code",
   "execution_count": null,
   "metadata": {},
   "outputs": [],
   "source": [
    "M[[0,1]]"
   ]
  },
  {
   "cell_type": "markdown",
   "metadata": {
    "slideshow": {
     "slide_type": "subslide"
    }
   },
   "source": [
    "# Who will explain to me what happens here?\n",
    "\n",
    "Please use as many terms from the last half hour that you can remember!"
   ]
  },
  {
   "cell_type": "code",
   "execution_count": null,
   "metadata": {},
   "outputs": [],
   "source": [
    "M = np.arange(6).reshape(2, 3)\n",
    "\n",
    "print(M)"
   ]
  },
  {
   "cell_type": "code",
   "execution_count": null,
   "metadata": {},
   "outputs": [],
   "source": [
    "M.shape"
   ]
  },
  {
   "cell_type": "code",
   "execution_count": null,
   "metadata": {},
   "outputs": [],
   "source": [
    "filtertje = ((M != 2) & (M != 5))\n",
    "M[filtertje]"
   ]
  },
  {
   "cell_type": "code",
   "execution_count": null,
   "metadata": {},
   "outputs": [],
   "source": [
    "filtertje"
   ]
  },
  {
   "cell_type": "code",
   "execution_count": null,
   "metadata": {},
   "outputs": [],
   "source": [
    "M[M.sum(axis=1) > 4, 1:]"
   ]
  },
  {
   "cell_type": "markdown",
   "metadata": {
    "slideshow": {
     "slide_type": "subslide"
    }
   },
   "source": [
    "# Beyond the scope of today\n",
    "\n",
    "- Just in time compilation: `jit`, `numba`, ... (they come with IPython magic!)\n",
    "- Multi-D named arrays: `xarray`, ...\n",
    "- Moving to the GPU: `cupy`, `jax`, `pytorch`, `tensorflow`, ...\n",
    "- Multiprocessing: `multiprocessing`, `mpi4py`, ..."
   ]
  },
  {
   "cell_type": "markdown",
   "metadata": {
    "slideshow": {
     "slide_type": "slide"
    }
   },
   "source": [
    "<img src=https://svgsilh.com/svg/1970468.svg align=right width=200 style=display:inline>\n",
    "\n",
    "# Exercise time!\n",
    "\n",
    "## Performance is important\n",
    "\n",
    "Exercises are to be found in the following cells... \n",
    "\n",
    "There is a short exercise about another theme around performance: **Memory** usage.\n",
    "\n",
    "**The second exercise** tries to combine some of the numpy aspects discussed, make sure you take the time to try that one (before the next session starts)!"
   ]
  },
  {
   "cell_type": "markdown",
   "metadata": {
    "slideshow": {
     "slide_type": "subslide"
    }
   },
   "source": [
    "# Exercise: memory usage\n",
    "Execution time isn't the only ingredient to \"performance\". Let's have a look at memory usage.\n",
    "\n",
    "In the package `sys` you can interact with the operating system. `getsizeof()` is a function to get the physical memory used by an object (in bytes).\n",
    "\n",
    "Investigate the memory usage by ever growing lists and dicts (start at them containing 1 element and let them grow to, say, 100). What do you observe?"
   ]
  },
  {
   "cell_type": "code",
   "execution_count": null,
   "metadata": {},
   "outputs": [],
   "source": []
  },
  {
   "cell_type": "code",
   "execution_count": null,
   "metadata": {
    "slideshow": {
     "slide_type": "subslide"
    }
   },
   "outputs": [],
   "source": [
    "import os\n",
    "#to_include = os.path.join('solutions', 'memory_listdict.py')\n",
    "#%load $to_include"
   ]
  },
  {
   "cell_type": "markdown",
   "metadata": {
    "slideshow": {
     "slide_type": "subslide"
    }
   },
   "source": [
    "# Exercise: Fix my code and show numpy muscle!\n",
    "\n",
    "Below is a piece of code. It has issues (quite serious issues). Make it sweet. \n",
    "\n",
    "*The goal*: Randomly draw 1000 points in three dimensions. Calculate the index of the **nearest neighbor** for every point.\n",
    "\n",
    "Compare the perfomance of both options. Where was the biggest win? Post your factor speedup in the chat at the start of the next session!\n",
    "\n",
    "*Yes, you can do this with `sklearn`'s nearest neighbor stuff, but please don't.*\n"
   ]
  },
  {
   "cell_type": "code",
   "execution_count": null,
   "metadata": {
    "slideshow": {
     "slide_type": "subslide"
    }
   },
   "outputs": [],
   "source": [
    "import numpy as np\n",
    "npoints = 10000\n",
    "ndim = 3\n",
    "X = np.random.random((npoints, ndim)) # 1000 points in 3 dimensions\n",
    "\n",
    "def find_nearest_neighbor(points):\n",
    "    nearest_neighbor = []                 # A list for the nearest neighbors\n",
    "    for i in range(npoints):              # For all points\n",
    "        nearest = -1                      # Initialize a tracker for the nearest neighbor\n",
    "        mindist = np.inf                  # Initialize a tracker for its distance\n",
    "        for j in range(npoints):          # With all other points\n",
    "            if i == j: continue           # No need to calculate distance to itself\n",
    "            dist = 0                      # Initialize a distance\n",
    "            for k in range(ndim):         # in all dimensions\n",
    "                dist = np.sqrt(dist**2 + (X[i,k] - X[j, k])**2)  # Update distance\n",
    "            if dist < mindist:            # If it's closer than the previous closest:\n",
    "                nearest = j               # Write down this as nearest\n",
    "                mindist = dist            # And take note of its distance\n",
    "        nearest_neighbor.append(nearest)  # Fill up the array\n",
    "    return nearest_neighbor\n",
    "\n",
    "%time ngbs = find_nearest_neighbor(X)\n",
    "\n",
    "# Spoiler: simple things like removing sqrt and checking \n",
    "# whether you even need to do the next dimension are not\n",
    "# going to cut it..."
   ]
  },
  {
   "cell_type": "code",
   "execution_count": null,
   "metadata": {
    "slideshow": {
     "slide_type": "subslide"
    }
   },
   "outputs": [],
   "source": [
    "10000, 1, 3\n",
    "1, 10000, 3"
   ]
  },
  {
   "cell_type": "code",
   "execution_count": null,
   "metadata": {},
   "outputs": [],
   "source": [
    "%%timeit\n",
    "import os\n",
    "#to_include = os.path.join('solutions', 'nearest_neighbor.py')\n",
    "#%load $to_include"
   ]
  },
  {
   "cell_type": "markdown",
   "metadata": {
    "slideshow": {
     "slide_type": "slide"
    }
   },
   "source": [
    "<img src=figures/second_half.png align=right width=200 style=display:inline>\n",
    "\n",
    "# What will we see in the second half?\n",
    "\n",
    "1. Iterators, generators, decorators\n",
    "2. Classes, objects and special methods\n",
    "3. Class inheritance for pratical use"
   ]
  },
  {
   "cell_type": "markdown",
   "metadata": {
    "slideshow": {
     "slide_type": "slide"
    }
   },
   "source": [
    "# Generator expressions\n",
    "\n",
    "What, below, is the difference between `doubles` and `squares`?"
   ]
  },
  {
   "cell_type": "code",
   "execution_count": null,
   "metadata": {},
   "outputs": [],
   "source": [
    "numbers = [1, 3, 5, 7, 9, 11]\n",
    "doubles = [n*2 for n in numbers]\n",
    "squares = (n**2 for n in numbers)"
   ]
  },
  {
   "cell_type": "code",
   "execution_count": null,
   "metadata": {},
   "outputs": [],
   "source": [
    "for x in squares: print(x)   # And squares?"
   ]
  },
  {
   "cell_type": "markdown",
   "metadata": {
    "slideshow": {
     "slide_type": "subslide"
    }
   },
   "source": [
    "### Generators and lists are not the same thing"
   ]
  },
  {
   "cell_type": "code",
   "execution_count": null,
   "metadata": {},
   "outputs": [],
   "source": [
    "numbers = [1, 3, 5, 7, 9, 11]\n",
    "doubles = [n*2 for n in numbers]\n",
    "squares = (n**2 for n in numbers)"
   ]
  },
  {
   "cell_type": "code",
   "execution_count": null,
   "metadata": {},
   "outputs": [],
   "source": [
    "squares[1]   # And squares?"
   ]
  },
  {
   "cell_type": "code",
   "execution_count": null,
   "metadata": {},
   "outputs": [],
   "source": [
    "list(squares)[1]"
   ]
  },
  {
   "cell_type": "code",
   "execution_count": null,
   "metadata": {},
   "outputs": [],
   "source": [
    "squares = (n**2 for n in numbers)"
   ]
  },
  {
   "cell_type": "code",
   "execution_count": null,
   "metadata": {},
   "outputs": [],
   "source": [
    "sum([])"
   ]
  },
  {
   "cell_type": "code",
   "execution_count": null,
   "metadata": {},
   "outputs": [],
   "source": [
    "sum(squares)   # Run it twice!"
   ]
  },
  {
   "cell_type": "code",
   "execution_count": null,
   "metadata": {
    "slideshow": {
     "slide_type": "subslide"
    }
   },
   "outputs": [],
   "source": [
    "numbers = [1, 3, 5, 7, 9, 11]\n",
    "squares = (n**2 for n in numbers)\n",
    "print(9 in squares)"
   ]
  },
  {
   "cell_type": "code",
   "execution_count": null,
   "metadata": {
    "slideshow": {
     "slide_type": "subslide"
    }
   },
   "outputs": [],
   "source": [
    "list(squares)"
   ]
  },
  {
   "cell_type": "markdown",
   "metadata": {
    "slideshow": {
     "slide_type": "subslide"
    }
   },
   "source": [
    "<img src=https://nvie.com/img/iterable-vs-iterator.png align=right width=700 style=display:inline>\n",
    "\n",
    "# Iterators go in one direction, \n",
    "# no reset button"
   ]
  },
  {
   "cell_type": "code",
   "execution_count": null,
   "metadata": {},
   "outputs": [],
   "source": [
    "iterator = iter(numbers)"
   ]
  },
  {
   "cell_type": "code",
   "execution_count": null,
   "metadata": {},
   "outputs": [],
   "source": [
    "next(iterator)"
   ]
  },
  {
   "cell_type": "markdown",
   "metadata": {
    "slideshow": {
     "slide_type": "slide"
    }
   },
   "source": [
    "# Exercise: funky for-loops using iterators and while\n",
    "\n",
    "Use a while statement to loop over an iterable and make it do an action. `for` is the forbidden statement. `iter()` is the obligatory function. It may be wise to use a `try/except` block.\n",
    "Make a function that you can call like\n",
    "```\n",
    "numbers = [1, 3, 5, 7, 9, 11]\n",
    "funky_for_loop(numbers, print)\n",
    "```\n",
    "that will print all those numbers."
   ]
  },
  {
   "cell_type": "code",
   "execution_count": null,
   "metadata": {},
   "outputs": [],
   "source": []
  },
  {
   "cell_type": "code",
   "execution_count": null,
   "metadata": {
    "slideshow": {
     "slide_type": "subslide"
    }
   },
   "outputs": [],
   "source": [
    "import os\n",
    "#to_include = os.path.join('solutions', 'funky_for_loop.py')\n",
    "#%load $to_include"
   ]
  },
  {
   "cell_type": "markdown",
   "metadata": {
    "slideshow": {
     "slide_type": "slide"
    }
   },
   "source": [
    "# All iterating in Python depends on the Iterator Protocol"
   ]
  },
  {
   "cell_type": "code",
   "execution_count": null,
   "metadata": {},
   "outputs": [],
   "source": [
    "for n in numbers: print(n)"
   ]
  },
  {
   "cell_type": "code",
   "execution_count": null,
   "metadata": {},
   "outputs": [],
   "source": [
    "first, second, *rest = numbers\n",
    "print(rest)"
   ]
  },
  {
   "cell_type": "code",
   "execution_count": null,
   "metadata": {},
   "outputs": [],
   "source": [
    "print(*numbers)"
   ]
  },
  {
   "cell_type": "code",
   "execution_count": null,
   "metadata": {},
   "outputs": [],
   "source": [
    "unique_number = set(numbers)"
   ]
  },
  {
   "cell_type": "markdown",
   "metadata": {
    "slideshow": {
     "slide_type": "subslide"
    }
   },
   "source": [
    "# Iterators are iterables.\n",
    "\n",
    "In fact, the iterable created from an iterator is the iterator itself:"
   ]
  },
  {
   "cell_type": "code",
   "execution_count": null,
   "metadata": {},
   "outputs": [],
   "source": [
    "numbers = [2, 4, 6, 8, 10]\n",
    "iterator = iter(numbers)\n",
    "iterator2 = iter(iterator)\n",
    "iterator is iterator2"
   ]
  },
  {
   "cell_type": "code",
   "execution_count": null,
   "metadata": {},
   "outputs": [],
   "source": [
    "def is_iterable(iterator):\n",
    "    return iter(iterator) is iterator"
   ]
  },
  {
   "cell_type": "markdown",
   "metadata": {},
   "source": [
    "- An iterable is a thing you can iterate over\n",
    "- In iterator is the thing that does the iteration"
   ]
  },
  {
   "cell_type": "markdown",
   "metadata": {
    "slideshow": {
     "slide_type": "subslide"
    }
   },
   "source": [
    "# Quiz time!  `True` or `False`?\n",
    "In the chat: like indicates True, sad emoticon indicates False.\n",
    "\n",
    "Your thinking time is the time I need to copy-paste."
   ]
  },
  {
   "cell_type": "markdown",
   "metadata": {
    "slideshow": {
     "slide_type": "subslide"
    }
   },
   "source": [
    "### Generators are both iterators and iterable"
   ]
  },
  {
   "cell_type": "markdown",
   "metadata": {
    "slideshow": {
     "slide_type": "subslide"
    }
   },
   "source": [
    "### Lists are iterables"
   ]
  },
  {
   "cell_type": "markdown",
   "metadata": {
    "slideshow": {
     "slide_type": "subslide"
    }
   },
   "source": [
    "### All iterables are iterators, but not all iterators are iterable"
   ]
  },
  {
   "cell_type": "markdown",
   "metadata": {
    "slideshow": {
     "slide_type": "subslide"
    }
   },
   "source": [
    "### I'm confused by now"
   ]
  },
  {
   "cell_type": "markdown",
   "metadata": {
    "slideshow": {
     "slide_type": "slide"
    }
   },
   "source": [
    "# Reasons to care about iterators\n",
    "(in a discussion that started about generators)\n",
    "\n",
    "1. Iterators are lazy (and so should you!)\n",
    "2. Iterators allow for infinitely long iterables\n",
    "3. Iterators can save us memory (and sometimes time)"
   ]
  },
  {
   "cell_type": "markdown",
   "metadata": {
    "slideshow": {
     "slide_type": "subslide"
    }
   },
   "source": [
    "So how do we create an iterator?\n",
    "\n",
    "... with a generator function!"
   ]
  },
  {
   "cell_type": "code",
   "execution_count": null,
   "metadata": {},
   "outputs": [],
   "source": [
    "squares = (i**2 for i in range(1000))"
   ]
  },
  {
   "cell_type": "markdown",
   "metadata": {},
   "source": [
    "or..."
   ]
  },
  {
   "cell_type": "code",
   "execution_count": null,
   "metadata": {},
   "outputs": [],
   "source": [
    "def square_all(numbers):\n",
    "    for i in numbers: \n",
    "        yield i**2"
   ]
  },
  {
   "cell_type": "markdown",
   "metadata": {
    "slideshow": {
     "slide_type": "slide"
    }
   },
   "source": [
    "<img src=https://svgsilh.com/svg/1970468.svg align=right width=150 style=display:inline>\n",
    "\n",
    "### Thinking lazy makes for prettier code\n",
    "\n",
    "This can be read as: exercise time. Below is an ugly piece of code. Use iterators/iterables/`iter()` to write a **generator function** that works like (first line is optional):\n",
    "\n",
    "```python\n",
    "from my_fancy_generators import with_previous\n",
    "\n",
    "differences = []\n",
    "for previous, current in with_previous(my_list):\n",
    "    differences.append(current-previous)\n",
    "```\n",
    "Make sure it results in the same data structure as the example below!"
   ]
  },
  {
   "cell_type": "code",
   "execution_count": null,
   "metadata": {},
   "outputs": [],
   "source": [
    "my_list = [12, 14, 17, 21, 26]\n",
    "\n",
    "differences = []\n",
    "previous = my_list[0]\n",
    "for current in my_list[1:]:\n",
    "    differences.append(current-previous)\n",
    "    previous = current\n",
    "    \n",
    "print(differences)"
   ]
  },
  {
   "cell_type": "code",
   "execution_count": null,
   "metadata": {},
   "outputs": [],
   "source": []
  },
  {
   "cell_type": "code",
   "execution_count": null,
   "metadata": {
    "slideshow": {
     "slide_type": "subslide"
    }
   },
   "outputs": [],
   "source": [
    "import os\n",
    "#to_include = os.path.join('solutions', 'with_previous.py')\n",
    "#%load $to_include"
   ]
  },
  {
   "cell_type": "code",
   "execution_count": null,
   "metadata": {},
   "outputs": [],
   "source": []
  },
  {
   "cell_type": "markdown",
   "metadata": {
    "slideshow": {
     "slide_type": "slide"
    }
   },
   "source": [
    "# Functions, generators and decorators\n",
    "\n",
    "A function is a block of code that is meant to be used more than twice.\n",
    "\n",
    "The general structure of a function is\n",
    "\n",
    "```python\n",
    "def function_name(*args, **kwargs):\n",
    "    \"\"\"Docstring of the function.\n",
    "    Describes in- and output and functionality.    \n",
    "    \"\"\"\n",
    "    \n",
    "    #body of the function with code\n",
    "    ...\n",
    "    \n",
    "    return \"whatever_needs_returned\"\n",
    "```\n"
   ]
  },
  {
   "cell_type": "markdown",
   "metadata": {
    "slideshow": {
     "slide_type": "subslide"
    }
   },
   "source": [
    "<img src=https://upload.wikimedia.org/wikipedia/commons/thumb/3/3b/Function_machine2.svg/191px-Function_machine2.svg.png align=right width=400 style=display:inline>\n",
    "\n",
    "# Functions are first-class objects\n",
    "\n",
    "So...?\n",
    "\n",
    "- Functions can be assigned to variables\n",
    "- Functions can be stored in collections\n",
    "- Functions can be passed as arguments\n",
    "- Functions can return functions\n"
   ]
  },
  {
   "cell_type": "markdown",
   "metadata": {
    "slideshow": {
     "slide_type": "subslide"
    }
   },
   "source": [
    "# Functions can be assigned to variables"
   ]
  },
  {
   "cell_type": "code",
   "execution_count": null,
   "metadata": {
    "slideshow": {
     "slide_type": "-"
    }
   },
   "outputs": [],
   "source": [
    "new_name = str\n",
    "new_name(5)"
   ]
  },
  {
   "cell_type": "markdown",
   "metadata": {
    "slideshow": {
     "slide_type": "subslide"
    }
   },
   "source": [
    "# Functions can be stored in collections"
   ]
  },
  {
   "cell_type": "code",
   "execution_count": null,
   "metadata": {},
   "outputs": [],
   "source": [
    "a = [1, 2, 'string', print]\n",
    "a[3](\"Yes, I'm printing already\")"
   ]
  },
  {
   "cell_type": "markdown",
   "metadata": {
    "slideshow": {
     "slide_type": "subslide"
    }
   },
   "source": [
    "# Functions can be passed as arguments"
   ]
  },
  {
   "cell_type": "code",
   "execution_count": null,
   "metadata": {},
   "outputs": [],
   "source": [
    "def execute_function(f, *args, **kwargs):\n",
    "    \n",
    "    return f(*args, **kwargs)\n",
    "\n",
    "execute_function(print, 4)\n",
    "execute_function(sorted, 'monkey' , **{'reverse':True})"
   ]
  },
  {
   "cell_type": "markdown",
   "metadata": {
    "slideshow": {
     "slide_type": "subslide"
    }
   },
   "source": [
    "# Functions can return functions"
   ]
  },
  {
   "cell_type": "code",
   "execution_count": null,
   "metadata": {},
   "outputs": [],
   "source": [
    "import math as m\n",
    "\n",
    "def my_new_function(having_fun=False):\n",
    "    \"\"\"This function returns a function!\n",
    "    And it's definitely having some fun....\n",
    "    \"\"\"\n",
    "    return m.sqrt if having_fun else m.sin\n",
    "\n",
    "python = 3.7\n",
    "my_new_function(python)(16)"
   ]
  },
  {
   "cell_type": "markdown",
   "metadata": {
    "slideshow": {
     "slide_type": "slide"
    }
   },
   "source": [
    "\n",
    "\n",
    "# Decorators: functions of functions that return functions\n",
    "\n",
    "Which is pretty functional!\n",
    "\n",
    "So functions can take functions and return functions,\n",
    "<img src=https://c.pxhere.com/images/d0/bb/1d9d7b8fcf940e1c16e987a8a2b4-1586981.jpg!d align=right width=500 style=display:inline>\n",
    "<br>\n",
    "<br>\n",
    "<br>\n",
    "So... \n",
    "<br>\n",
    "<br>\n",
    "<br>\n",
    "\n",
    "it can also take a function as argument, <br>\n",
    "..... alter it, <br>\n",
    "..... return it <br>\n",
    "..... and assign it to the *same variable* as the original function!\n",
    "\n",
    "Is that evil or awesome?\n",
    "\n",
    "(Much of this material comes from [a talk by Reuven Lerner](https://www.youtube.com/watch?v=MjHpMCIvwsY) @PyCon2019)"
   ]
  },
  {
   "cell_type": "markdown",
   "metadata": {
    "slideshow": {
     "slide_type": "subslide"
    }
   },
   "source": [
    "# Take a function through a function and assign it to the same variable\n",
    "\n",
    "```python\n",
    "def this_will_be_a_decorator(a_function):\n",
    "    ...\n",
    "    return a_new_function\n",
    "\n",
    "def my_function():\n",
    "    pass\n",
    "\n",
    "my_function = this_will_be_a_decorator(my_function)\n",
    "\n",
    "```"
   ]
  },
  {
   "cell_type": "markdown",
   "metadata": {
    "slideshow": {
     "slide_type": "subslide"
    }
   },
   "source": [
    "### This will be done in one short line with an `@`:\n",
    "\n",
    "```python\n",
    "def this_will_be_a_decorator(a_function):\n",
    "    ...\n",
    "    return a_new_function\n",
    "\n",
    "@this_will_be_a_decorator\n",
    "def my_function():\n",
    "    pass\n",
    "```"
   ]
  },
  {
   "cell_type": "markdown",
   "metadata": {
    "slideshow": {
     "slide_type": "subslide"
    }
   },
   "source": [
    "# A simple example"
   ]
  },
  {
   "cell_type": "code",
   "execution_count": null,
   "metadata": {
    "slideshow": {
     "slide_type": "-"
    }
   },
   "outputs": [],
   "source": [
    "def mydeco(func):\n",
    "    def wrapper(*args, **kwargs):\n",
    "        return f'{func(*args, **kwargs)}!!!'\n",
    "    return wrapper\n",
    "\n",
    "@mydeco\n",
    "def add(a, b):\n",
    "    return a + b\n",
    "\n",
    "print(add(2, 2))\n",
    "print(add(3, 3))"
   ]
  },
  {
   "cell_type": "markdown",
   "metadata": {},
   "source": [
    "Note the *two* occurences of `def` and `return`."
   ]
  },
  {
   "cell_type": "markdown",
   "metadata": {
    "slideshow": {
     "slide_type": "subslide"
    }
   },
   "source": [
    "<img src=figures/ReuvenLerner_1.png>"
   ]
  },
  {
   "cell_type": "code",
   "execution_count": null,
   "metadata": {
    "slideshow": {
     "slide_type": "subslide"
    }
   },
   "outputs": [],
   "source": [
    "import time\n",
    "def logtime(func):\n",
    "    decorate_time = time.time()\n",
    "    \n",
    "    def wrapper(*args, **kwargs):\n",
    "        start_time = time.time()\n",
    "        result = func(*args, **kwargs)\n",
    "        total_time = time.time() - start_time\n",
    "        func_age = time.time() - decorate_time\n",
    "        print(f'{func.__name__} took {total_time} s, {func_age:2.1f}s after decoration')\n",
    "        return result\n",
    "\n",
    "    \n",
    "    return wrapper"
   ]
  },
  {
   "cell_type": "code",
   "execution_count": null,
   "metadata": {},
   "outputs": [],
   "source": [
    "@logtime\n",
    "def add(a, b):\n",
    "    return a+b\n",
    "\n",
    "@logtime\n",
    "def mult(a, b):\n",
    "    return a*b"
   ]
  },
  {
   "cell_type": "code",
   "execution_count": null,
   "metadata": {},
   "outputs": [],
   "source": [
    "print(add(3, 4))"
   ]
  },
  {
   "cell_type": "code",
   "execution_count": null,
   "metadata": {},
   "outputs": [],
   "source": [
    "print(mult(4, 5))"
   ]
  },
  {
   "cell_type": "markdown",
   "metadata": {
    "slideshow": {
     "slide_type": "subslide"
    }
   },
   "source": [
    "# One more complication..."
   ]
  },
  {
   "cell_type": "code",
   "execution_count": null,
   "metadata": {},
   "outputs": [],
   "source": [
    "import time\n",
    "def once_per_minute(func):\n",
    "    last_invoked = 0\n",
    "\n",
    "    def wrapper(*args, **kwargs):\n",
    "        elapsed_time = time.time() - last_invoked\n",
    "        if elapsed_time < 60:\n",
    "            raise Exception(\"Not so quick!\")\n",
    "\n",
    "        last_invoked = time.time()\n",
    "\n",
    "        return func(*args, **kwargs)\n",
    "\n",
    "    return wrapper\n",
    "\n",
    "@once_per_minute\n",
    "def mul(a, b):\n",
    "    return a*b"
   ]
  },
  {
   "cell_type": "code",
   "execution_count": null,
   "metadata": {},
   "outputs": [],
   "source": [
    "mul(2,3)"
   ]
  },
  {
   "cell_type": "code",
   "execution_count": null,
   "metadata": {
    "slideshow": {
     "slide_type": "subslide"
    }
   },
   "outputs": [],
   "source": [
    "import time\n",
    "def once_per_minute(func):\n",
    "    last_invoked = 0\n",
    "\n",
    "    def wrapper(*args, **kwargs):\n",
    "        nonlocal last_invoked\n",
    "        elapsed_time = time.time() - last_invoked\n",
    "        if elapsed_time < 60:\n",
    "            raise Exception(\"Not so quick!\")\n",
    "\n",
    "        last_invoked = time.time()\n",
    "\n",
    "        return func(*args, **kwargs)\n",
    "\n",
    "    return wrapper\n",
    "\n",
    "@once_per_minute\n",
    "def mul(a, b):\n",
    "    return a*b"
   ]
  },
  {
   "cell_type": "code",
   "execution_count": null,
   "metadata": {},
   "outputs": [],
   "source": [
    "mul(2,3)"
   ]
  },
  {
   "cell_type": "markdown",
   "metadata": {
    "slideshow": {
     "slide_type": "subslide"
    }
   },
   "source": [
    "# Oh no, one *more* complication...\n",
    "We want our function to be able to run at most once per `n` seconds.\n",
    "\n",
    "So we need another extra layer."
   ]
  },
  {
   "cell_type": "code",
   "execution_count": null,
   "metadata": {},
   "outputs": [],
   "source": [
    "def once_per_n(n):\n",
    "    def middle(func):\n",
    "        last_invoked = 0\n",
    "\n",
    "        def wrapper(*args, **kwargs):\n",
    "            nonlocal last_invoked\n",
    "\n",
    "            elapsed_time = time.time() - last_invoked\n",
    "            if elapsed_time < n:\n",
    "                raise Exception(f\"Only {elapsed_time} has passed\")\n",
    "\n",
    "            last_invoked = time.time()\n",
    "\n",
    "            return func(*args, **kwargs)\n",
    "\n",
    "        return wrapper\n",
    "    return middle\n",
    "\n",
    "@once_per_n(5)\n",
    "def slow_add(a, b):\n",
    "    time.sleep(8)\n",
    "    return a + b\n",
    "\n",
    "print(slow_add(2, 2))\n",
    "print(slow_add(3, 3))\n",
    "print(slow_add(4, 4))"
   ]
  },
  {
   "cell_type": "markdown",
   "metadata": {
    "slideshow": {
     "slide_type": "slide"
    }
   },
   "source": [
    "<img src=https://svgsilh.com/svg/1970468.svg align=right width=200>\n",
    "\n",
    "# Exercise time!\n",
    "\n",
    "You're free to do either of these exercises. You can try both if you're quick.\n",
    "\n",
    "1. Write a decorator that can decorate functions and log their function name as well as the time they run in one text file for all decorated functions. This log file should contain the moment the function ran, the function name and the run time. Use it to log functions that take a while, using `time.sleep()`. Create a log file with at least two different functions, that are both called at least twice.\n",
    "2. Write a decorator that caches results of a function that might (or might not) take a long time to run. This cache result should be used when available, otheriwse the function does what it does and stores the result in the cache, based on the `*args` and `**kwargs`, for later retrieval. Think of a nice function to use this for. Can you access the contents of the cache?"
   ]
  },
  {
   "cell_type": "code",
   "execution_count": null,
   "metadata": {},
   "outputs": [],
   "source": []
  },
  {
   "cell_type": "code",
   "execution_count": null,
   "metadata": {
    "slideshow": {
     "slide_type": "subslide"
    }
   },
   "outputs": [],
   "source": [
    "import os\n",
    "#to_include = os.path.join('solutions', 'logtime.py')\n",
    "#%load $to_include"
   ]
  },
  {
   "cell_type": "code",
   "execution_count": null,
   "metadata": {
    "slideshow": {
     "slide_type": "subslide"
    }
   },
   "outputs": [],
   "source": [
    "import os\n",
    "#to_include = os.path.join('solutions', 'caching.py')\n",
    "#%load $to_include"
   ]
  },
  {
   "cell_type": "markdown",
   "metadata": {
    "slideshow": {
     "slide_type": "slide"
    }
   },
   "source": [
    "# Classes and Object Oriented Programming"
   ]
  },
  {
   "cell_type": "markdown",
   "metadata": {
    "slideshow": {
     "slide_type": "-"
    }
   },
   "source": [
    "<img src=https://upload.wikimedia.org/wikipedia/commons/thumb/6/62/CPT-OOP-objects_and_classes.svg/1280px-CPT-OOP-objects_and_classes.svg.png align=right width=400>\n",
    "\n",
    "A **class** is a block of code with functionality and descriptions that \"belong together\".\n",
    "\n",
    "An **object** is an instance of a class."
   ]
  },
  {
   "cell_type": "markdown",
   "metadata": {
    "slideshow": {
     "slide_type": "subslide"
    }
   },
   "source": [
    "# The class, objects, methods, attributes\n",
    "\n",
    "<img src=https://upload.wikimedia.org/wikipedia/commons/thumb/9/98/CPT-OOP-objects_and_classes_-_attmeth.svg/1280px-CPT-OOP-objects_and_classes_-_attmeth.svg.png align=right width=400>\n",
    "\n",
    "Of *one* class, you can have multiple instances: the objects.\n",
    "\n",
    "An object *can* have methods and/or attributes."
   ]
  },
  {
   "cell_type": "code",
   "execution_count": null,
   "metadata": {
    "slideshow": {
     "slide_type": "subslide"
    }
   },
   "outputs": [],
   "source": [
    "class ExampleObject():\n",
    "    \"\"\"docstring\"\"\"\n",
    "    pass\n",
    "\n",
    "\n",
    "\n",
    "instance = ExampleObject()"
   ]
  },
  {
   "cell_type": "markdown",
   "metadata": {},
   "source": [
    "### Quiz:\n",
    "\n",
    "1. How many classes are there?\n",
    "2. How many objects are there?\n",
    "3. How many methods have I defined?\n",
    "4. How many attributes are there?"
   ]
  },
  {
   "cell_type": "code",
   "execution_count": null,
   "metadata": {},
   "outputs": [],
   "source": [
    "dir(instance)"
   ]
  },
  {
   "cell_type": "markdown",
   "metadata": {
    "slideshow": {
     "slide_type": "slide"
    }
   },
   "source": [
    "# Special methods in classes\n",
    "\n",
    "Under-used functionality with **__dunder__**-methods!\n",
    "\n",
    "\n",
    "*For instance:*\n",
    "The `+` sign does something with objects, but how does the interpreter know what to do?"
   ]
  },
  {
   "cell_type": "code",
   "execution_count": null,
   "metadata": {
    "scrolled": true
   },
   "outputs": [],
   "source": [
    "print(3 + 4)\n",
    "print(['monkeys', 'like'] + ['bananas'])"
   ]
  },
  {
   "cell_type": "markdown",
   "metadata": {
    "slideshow": {
     "slide_type": "subslide"
    }
   },
   "source": [
    "# And what to think of..."
   ]
  },
  {
   "cell_type": "code",
   "execution_count": null,
   "metadata": {},
   "outputs": [],
   "source": [
    "print('Pretty print?')\n",
    "'ugly print'"
   ]
  },
  {
   "cell_type": "code",
   "execution_count": null,
   "metadata": {},
   "outputs": [],
   "source": [
    "import pandas as pd\n",
    "df = pd.DataFrame({'x':[1, 2], 'y':[3, 40]})\n",
    "print(df)\n",
    "df"
   ]
  },
  {
   "cell_type": "markdown",
   "metadata": {
    "slideshow": {
     "slide_type": "subslide"
    }
   },
   "source": [
    "# \\_\\_dunder\\_\\_ methods"
   ]
  },
  {
   "cell_type": "code",
   "execution_count": null,
   "metadata": {},
   "outputs": [],
   "source": [
    "import numpy as np\n",
    "\n",
    "class Complex():\n",
    "    def __init__(self, real, imaginary, make_polar=False):\n",
    "        self.r = real\n",
    "        self.i = imaginary\n",
    "        if make_polar: self.to_polar()\n",
    "    \n",
    "    def to_polar(self):\n",
    "        self.R = np.sqrt(self.r**2 + self.i**2)\n",
    "        self.theta = np.arctan(self.i/self.r)\n",
    "        return self"
   ]
  },
  {
   "cell_type": "code",
   "execution_count": null,
   "metadata": {},
   "outputs": [],
   "source": [
    "x = Complex(3.0, -4.5)\n",
    "print(x.r, x.i)\n",
    "y = x.to_polar()\n",
    "print(y.R)\n",
    "print(x.R)\n",
    "print(x.__doc__)\n",
    "dir(x)"
   ]
  },
  {
   "cell_type": "markdown",
   "metadata": {},
   "source": [
    "The idea: a user does not need to know about special/dunder methods. A developer does."
   ]
  },
  {
   "cell_type": "code",
   "execution_count": null,
   "metadata": {
    "slideshow": {
     "slide_type": "slide"
    }
   },
   "outputs": [],
   "source": [
    "import pandas as pd\n",
    "dir(pd.DataFrame)"
   ]
  },
  {
   "cell_type": "markdown",
   "metadata": {
    "slideshow": {
     "slide_type": "slide"
    }
   },
   "source": [
    "<img src=http://resumbrae.com/ub/dms423_f05/20/fig2.jpg align=right width=300>\n",
    "\n",
    "# Exercise time!\n",
    "\n",
    "Do exercise one, as well as the number corresponding to your name (see below):\n",
    "\n",
    "1. Create a class for **vectors**. Make sure it can handle n-dimensional vectors by taking an iterable describing the components (e.g. a list of components) and `len()` should of course give you the number of components. \n",
    "\n",
    "2. Make sure that addition is defined as exepected:\n",
    "$\\vec{v} + \\vec{w} = (v_1+w_1, v_2+w_2, ...)$\n",
    "\n",
    "3. Create a pretty printed representation for it, e.g. in the form of a list, but without the ugly square brackets.\n",
    "\n",
    "4. Make sure that when you multiply two instances of the class, the result is the vector dot-product (or: inner product): $$\\vec{v} \\cdot \\vec{w} = \\sum_{i} v_iw_i$$\n",
    "\n",
    "5. Add a method to calculate the magnitude of the vector (total length). Make sure that the `abs()` built-in function calls this method!"
   ]
  },
  {
   "cell_type": "code",
   "execution_count": null,
   "metadata": {
    "slideshow": {
     "slide_type": "-"
    }
   },
   "outputs": [],
   "source": [
    "import os\n",
    "#to_include = os.path.join('solutions', 'vector_class.py')\n",
    "#%load $to_include"
   ]
  },
  {
   "cell_type": "markdown",
   "metadata": {
    "slideshow": {
     "slide_type": "slide"
    }
   },
   "source": [
    "# Class inheritance\n",
    "\n",
    "\n",
    "Classes that inherit from a parent class know about their attributes and methods"
   ]
  },
  {
   "cell_type": "code",
   "execution_count": null,
   "metadata": {},
   "outputs": [],
   "source": [
    "class Parent():\n",
    "    def f1(self):\n",
    "        print(\"parent\")\n",
    "        \n",
    "class Child(Parent):\n",
    "    def f2(self):\n",
    "        print(\"child\")"
   ]
  },
  {
   "cell_type": "code",
   "execution_count": null,
   "metadata": {},
   "outputs": [],
   "source": [
    "obj = Child()\n",
    "obj.f1()\n",
    "obj.f2()"
   ]
  },
  {
   "cell_type": "code",
   "execution_count": null,
   "metadata": {
    "slideshow": {
     "slide_type": "subslide"
    }
   },
   "outputs": [],
   "source": [
    "class Parent():\n",
    "    def __init__(self):\n",
    "        self.name = \"Parent\"\n",
    "        self.lastname = \"Familyname\"\n",
    "        \n",
    "    def f1(self):\n",
    "        print(\"Method from parent\")\n",
    "        \n",
    "class Child(Parent):\n",
    "    def __init__(self):\n",
    "        Parent.__init__(self)\n",
    "        self.name = \"Child\"\n",
    "        \n",
    "    def f2(self):\n",
    "        print(\"Method from child\")\n",
    "        \n",
    "    def f1(self):\n",
    "        print('Overwritten method of parent by child')"
   ]
  },
  {
   "cell_type": "code",
   "execution_count": null,
   "metadata": {},
   "outputs": [],
   "source": [
    "obj = Child()\n",
    "print(obj.name, obj.lastname)\n",
    "obj.f1()"
   ]
  },
  {
   "cell_type": "markdown",
   "metadata": {
    "slideshow": {
     "slide_type": "slide"
    }
   },
   "source": [
    "## Example: scikit-learn's MinMaxScaler\n",
    "It is a data scaler with a very simple definition: linearly scale the data from 0 to 1 by applying\n",
    "\n",
    "$$X_{\\rm scaled} = \\frac{X - {\\rm min}(X)}{{\\rm max}(X) - {\\rm min}(X)} = \\frac{X - {\\rm min}(X)}{{\\rm range}(X)}$$"
   ]
  },
  {
   "cell_type": "code",
   "execution_count": null,
   "metadata": {
    "slideshow": {
     "slide_type": "subslide"
    }
   },
   "outputs": [],
   "source": [
    "from sklearn.preprocessing import MinMaxScaler\n",
    "scaler = MinMaxScaler()\n"
   ]
  },
  {
   "cell_type": "code",
   "execution_count": null,
   "metadata": {},
   "outputs": [],
   "source": [
    "print(scaler)\n",
    "data = [[-1, 2], [-0.5, 6], [0, 10], [1, 18]]\n",
    "print(data)\n",
    "scaled = scaler.fit_transform(data)\n",
    "print(\"Scaled:\\n\",scaled)"
   ]
  },
  {
   "cell_type": "markdown",
   "metadata": {
    "slideshow": {
     "slide_type": "subslide"
    }
   },
   "source": [
    "The `scaler` object now has a bunch of attributes that it didn't know about before the `.fit()` method was applied:"
   ]
  },
  {
   "cell_type": "code",
   "execution_count": null,
   "metadata": {},
   "outputs": [],
   "source": [
    "print(scaler.data_min_)\n",
    "print(scaler.data_max_)\n",
    "print(scaler.data_range_)\n",
    "print(scaler.n_samples_seen_)"
   ]
  },
  {
   "cell_type": "markdown",
   "metadata": {},
   "source": [
    "There are also methods like `.transform()` and `.inverse_transform()` that can only exist after the class has seen the data to train on."
   ]
  },
  {
   "cell_type": "markdown",
   "metadata": {
    "slideshow": {
     "slide_type": "subslide"
    }
   },
   "source": [
    "These methods can be used on new data:"
   ]
  },
  {
   "cell_type": "code",
   "execution_count": null,
   "metadata": {},
   "outputs": [],
   "source": [
    "other_scaled_data = scaler.transform([[0.5, 4]])\n",
    "other_scaled_data"
   ]
  },
  {
   "cell_type": "markdown",
   "metadata": {},
   "source": [
    "**What if this new data is outside the original range of the data?**"
   ]
  },
  {
   "cell_type": "markdown",
   "metadata": {
    "slideshow": {
     "slide_type": "subslide"
    }
   },
   "source": [
    "When used on data outside the original range:"
   ]
  },
  {
   "cell_type": "code",
   "execution_count": null,
   "metadata": {
    "slideshow": {
     "slide_type": "-"
    }
   },
   "outputs": [],
   "source": [
    "other_scaled_data = scaler.transform([[1.5, 0]])\n",
    "other_scaled_data"
   ]
  },
  {
   "cell_type": "markdown",
   "metadata": {},
   "source": [
    "The transformer does what it promises to do, but now the scaled data range is not between 0 and 1 anymore.\n",
    "\n",
    "You could easily fix that by clipping at 0 and 1, but there is a more elegant way to do this."
   ]
  },
  {
   "cell_type": "markdown",
   "metadata": {
    "slideshow": {
     "slide_type": "subslide"
    }
   },
   "source": [
    "Let's create our own scaler class that act mostly like `MinMaxScaler()`, but with some features adapted: "
   ]
  },
  {
   "cell_type": "code",
   "execution_count": null,
   "metadata": {},
   "outputs": [],
   "source": [
    "class MyOwnScaler(MinMaxScaler):\n",
    "    pass\n",
    "\n",
    "new_scaler = MyOwnScaler()\n",
    "newly_scaled = new_scaler.fit_transform(data)\n",
    "print(newly_scaled)"
   ]
  },
  {
   "cell_type": "markdown",
   "metadata": {},
   "source": [
    "So far, `MyOwnScaler()` behaves exactly like `MinMaxScaler()` because it *inherited* everything from it, and no attributes or methods were overwritten or added."
   ]
  },
  {
   "cell_type": "code",
   "execution_count": null,
   "metadata": {
    "slideshow": {
     "slide_type": "subslide"
    }
   },
   "outputs": [],
   "source": [
    "class MyOwnScaler(MinMaxScaler):\n",
    "    def transform(self, newdata):\n",
    "        transformed = super().transform(newdata)\n",
    "        transformed = np.clip(transformed, 0, 1)\n",
    "        return transformed\n",
    "\n",
    "new_scaler = MyOwnScaler()\n",
    "newly_scaled = new_scaler.fit_transform(data)\n",
    "print(newly_scaled)"
   ]
  },
  {
   "cell_type": "code",
   "execution_count": null,
   "metadata": {},
   "outputs": [],
   "source": [
    "print(scaler.transform([[1.5, 0]]))\n",
    "print(new_scaler.transform([[1.5, 0]]))"
   ]
  },
  {
   "cell_type": "markdown",
   "metadata": {},
   "source": [
    "By **over-writing** the `.transform()` method you can make it do whatever you like.\n",
    "\n",
    "Using `super()`, it still uses the parent's class transform!"
   ]
  },
  {
   "cell_type": "markdown",
   "metadata": {
    "slideshow": {
     "slide_type": "subslide"
    }
   },
   "source": [
    "*Warning, though....:* The reverse transform won't work well, now...\n",
    "<br>\n",
    "<br>\n",
    "<br>\n",
    "<br>\n",
    "\n",
    "And what about `.fit_transform()`?"
   ]
  },
  {
   "cell_type": "code",
   "execution_count": null,
   "metadata": {
    "slideshow": {
     "slide_type": "subslide"
    }
   },
   "outputs": [],
   "source": [
    "class MyOwnScaler(MinMaxScaler):\n",
    "    def transform(self, newdata):\n",
    "        transformed = super().transform(newdata)\n",
    "        transformed = np.clip(transformed, 0, 1)\n",
    "        print(\"I'm using this transform!\")\n",
    "        return transformed\n",
    "\n",
    "scaler = MyOwnScaler()\n",
    "scaled = scaler.fit_transform(data)"
   ]
  },
  {
   "cell_type": "markdown",
   "metadata": {},
   "source": [
    "Apparently, the `.fit_transform()` method calls `.transform()`.\n",
    "\n",
    "Try figuring *that* out from the code!\n",
    "\n",
    "(in fact, in this case that isn't hopelessly difficult, from the [documentation page](https://scikit-learn.org/stable/modules/generated/sklearn.preprocessing.MinMaxScaler.html).)\n",
    "<img src=figures/scikit-learn-logo-small.png align=right>\n",
    "\n"
   ]
  },
  {
   "cell_type": "markdown",
   "metadata": {
    "slideshow": {
     "slide_type": "slide"
    }
   },
   "source": [
    "<img src=https://p0.pikist.com/photos/455/154/balloons-clouds-word-clouds-abstract-dialogue-discussion-talk-graphic-background.jpg align=right width=300>\n",
    "\n",
    "# Exercise time!\n",
    "\n",
    "\n",
    "You're not making anything, that would take too long. Instead, let's brainstorm on the use of this.\n",
    "\n",
    "### What would be your use case for creating a class with inheritance?"
   ]
  },
  {
   "cell_type": "markdown",
   "metadata": {
    "slideshow": {
     "slide_type": "slide"
    }
   },
   "source": [
    "# Special class decorators\n",
    "\n",
    "Can we also decorate classes?\n",
    "\n",
    "... It's Python, of course we can."
   ]
  },
  {
   "cell_type": "code",
   "execution_count": null,
   "metadata": {},
   "outputs": [],
   "source": [
    "import time\n",
    "\n",
    "def object_birthday(c):\n",
    "    def wrapper(*args, **kwargs):\n",
    "        o = c(*args, **kwargs)\n",
    "        o._created_at = time.time()\n",
    "        return o\n",
    "    return wrapper\n",
    "\n",
    "@object_birthday\n",
    "class Foo():\n",
    "    def __init__(self, x, y):\n",
    "        self.x = x\n",
    "        self.y = y\n",
    "\n",
    "f = Foo(10, [10, 20, 30])\n",
    "print(f)\n",
    "print(f._created_at)"
   ]
  },
  {
   "cell_type": "markdown",
   "metadata": {
    "slideshow": {
     "slide_type": "subslide"
    }
   },
   "source": [
    "# Special classes: The dataclass\n",
    "\n",
    "*Disclaimer*: Python 3.7 and up! See [PEP 557](https://www.python.org/dev/peps/pep-0557/) for the rationale, and full definition.\n",
    "\n",
    "Some default methods are implemented for you, behind the scenens. E.g.:"
   ]
  },
  {
   "cell_type": "code",
   "execution_count": null,
   "metadata": {},
   "outputs": [],
   "source": [
    "class RegularCard:\n",
    "    def __init__(self, rank, suit):\n",
    "        self.suit = suit\n",
    "        self.rank = rank\n",
    "        \n",
    "\n",
    "RegularCard('Q', 'Hearts') == RegularCard('Q', 'Hearts')"
   ]
  },
  {
   "cell_type": "code",
   "execution_count": null,
   "metadata": {},
   "outputs": [],
   "source": [
    "from dataclasses import dataclass\n",
    "\n",
    "@dataclass\n",
    "class DataClassCard:\n",
    "    rank: str\n",
    "    suit: str\n",
    "        \n",
    "DataClassCard('Q', 'Hearts') == DataClassCard('Q', 'Hearts')"
   ]
  },
  {
   "cell_type": "markdown",
   "metadata": {
    "slideshow": {
     "slide_type": "subslide"
    }
   },
   "source": [
    "# Type hints are always optional\n",
    "\n",
    "In \n",
    "```python\n",
    "@dataclass\n",
    "class DataClassCard:\n",
    "    rank: str\n",
    "    suit: str\n",
    "```\n",
    "there is a hint for the type of both attributes, but:"
   ]
  },
  {
   "cell_type": "code",
   "execution_count": null,
   "metadata": {},
   "outputs": [],
   "source": [
    "DataClassCard('Q', 12)"
   ]
  },
  {
   "cell_type": "markdown",
   "metadata": {},
   "source": [
    "(but you can of course do the type checking yourself!)"
   ]
  },
  {
   "cell_type": "markdown",
   "metadata": {
    "slideshow": {
     "slide_type": "subslide"
    }
   },
   "source": [
    "Type hints are also available for function definitions, by the way...:\n",
    "```python\n",
    "def func(a: int, b:str) -> str:\n",
    "    return str(a)+b\n",
    "```\n",
    "or even\n",
    "```python\n",
    "def add_vecs(a: Vector, b:Vector) -> Vector:\n",
    "    return a.__add__(b)\n",
    "```\n",
    "\n",
    "Equally optional, equally non-binding"
   ]
  },
  {
   "cell_type": "markdown",
   "metadata": {
    "slideshow": {
     "slide_type": "subslide"
    }
   },
   "source": [
    "# Freedom within dataclasses\n",
    "\n",
    "Dataclasses come with some extra functionality. \n",
    "\n",
    "Never used by default.\n",
    "\n",
    "Always possible for the user to exploit!"
   ]
  },
  {
   "cell_type": "code",
   "execution_count": null,
   "metadata": {},
   "outputs": [],
   "source": [
    "from dataclasses import dataclass, field\n",
    "from typing import List, Any\n",
    "\n",
    "@dataclass(frozen=True)  # Make it immutable!\n",
    "class Position:\n",
    "    name: Any\n",
    "    lon: float = field(default=0.0, metadata={'unit': 'degrees'})\n",
    "    lat: float = field(default=0.0, metadata={'unit': 'degrees'})\n",
    "        \n"
   ]
  },
  {
   "cell_type": "markdown",
   "metadata": {
    "slideshow": {
     "slide_type": "subslide"
    }
   },
   "source": [
    "# Other class decorators that you might find useful\n",
    "\n",
    "1. `@staticmethod`: Similar to `@classmethod`: no instantiated object necessary:"
   ]
  },
  {
   "cell_type": "code",
   "execution_count": null,
   "metadata": {},
   "outputs": [],
   "source": [
    "class Student(object):\n",
    "\n",
    "    @staticmethod\n",
    "    def is_full_name(name_str):\n",
    "        names = name_str.split(' ')\n",
    "        return len(names) > 1\n",
    "\n",
    "print(Student.is_full_name('Scott Robinson'))\n",
    "print(Student.is_full_name('Scott'))"
   ]
  },
  {
   "cell_type": "markdown",
   "metadata": {},
   "source": [
    "2. `@abstractmethod`: Part of the slew of Abstract Base Classes: for your journey in the future."
   ]
  },
  {
   "cell_type": "markdown",
   "metadata": {
    "slideshow": {
     "slide_type": "slide"
    }
   },
   "source": [
    "# Time for a recap!\n",
    "\n",
    "- Iterators\n",
    "- Generators\n",
    "- Decorators\n",
    "- Class inheritance"
   ]
  },
  {
   "cell_type": "markdown",
   "metadata": {
    "slideshow": {
     "slide_type": "slide"
    }
   },
   "source": [
    "# Thank you!\n",
    "\n",
    "\n",
    "<br>\n",
    "<br>\n",
    "Marcel Haas, marcel@marcelhaas.com \n",
    "<br>\n",
    "<br>\n",
    "<br>\n",
    "<br>\n",
    "<br>\n",
    "<br>\n",
    "<br>\n",
    "\n",
    "--------------------\n",
    "\n",
    "<div align=right><i>This material is meant to be used exclusively for educational purposes. Original authors of the material are known to the author."
   ]
  }
 ],
 "metadata": {
  "celltoolbar": "Slideshow",
  "kernelspec": {
   "display_name": "Python 3 (ipykernel)",
   "language": "python",
   "name": "python3"
  },
  "language_info": {
   "codemirror_mode": {
    "name": "ipython",
    "version": 3
   },
   "file_extension": ".py",
   "mimetype": "text/x-python",
   "name": "python",
   "nbconvert_exporter": "python",
   "pygments_lexer": "ipython3",
   "version": "3.9.13"
  }
 },
 "nbformat": 4,
 "nbformat_minor": 4
}
